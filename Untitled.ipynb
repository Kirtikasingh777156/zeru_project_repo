{
 "cells": [
  {
   "cell_type": "code",
   "execution_count": 28,
   "id": "dacea315-2a2a-411a-ab07-11987f3f9f8e",
   "metadata": {},
   "outputs": [],
   "source": [
    "import pandas as pd\n",
    "import numpy as np\n",
    "import json\n",
    "from sklearn.preprocessing import MinMaxScaler"
   ]
  },
  {
   "cell_type": "code",
   "execution_count": 2,
   "id": "f6e9e077-234d-4419-ae46-196aa9a987ac",
   "metadata": {},
   "outputs": [],
   "source": [
    "# Load JSON file\n",
    "with open('user-wallet-transactions.json', 'r') as f:\n",
    "    data = json.load(f)"
   ]
  },
  {
   "cell_type": "code",
   "execution_count": 3,
   "id": "be9e5523-a5e5-4439-b997-7d78951e69e9",
   "metadata": {},
   "outputs": [],
   "source": [
    "# Convert to DataFrame\n",
    "df = pd.DataFrame(data)"
   ]
  },
  {
   "cell_type": "code",
   "execution_count": 4,
   "id": "f007d5f7-1bd0-4416-9354-f804d77f9d04",
   "metadata": {},
   "outputs": [],
   "source": [
    "# Save to CSV\n",
    "df.to_csv('output.csv', index=False)"
   ]
  },
  {
   "cell_type": "code",
   "execution_count": 5,
   "id": "0f41b857-ae2c-414d-ae96-fc742a61919f",
   "metadata": {},
   "outputs": [
    {
     "name": "stdout",
     "output_type": "stream",
     "text": [
      "JSON converted to CSV and saved as output.csv\n"
     ]
    }
   ],
   "source": [
    "print(\"JSON converted to CSV and saved as output.csv\")"
   ]
  },
  {
   "cell_type": "code",
   "execution_count": 6,
   "id": "908751ea-a617-4563-9e0d-b4400bd7b045",
   "metadata": {},
   "outputs": [
    {
     "data": {
      "text/html": [
       "<div>\n",
       "<style scoped>\n",
       "    .dataframe tbody tr th:only-of-type {\n",
       "        vertical-align: middle;\n",
       "    }\n",
       "\n",
       "    .dataframe tbody tr th {\n",
       "        vertical-align: top;\n",
       "    }\n",
       "\n",
       "    .dataframe thead th {\n",
       "        text-align: right;\n",
       "    }\n",
       "</style>\n",
       "<table border=\"1\" class=\"dataframe\">\n",
       "  <thead>\n",
       "    <tr style=\"text-align: right;\">\n",
       "      <th></th>\n",
       "      <th>_id</th>\n",
       "      <th>userWallet</th>\n",
       "      <th>network</th>\n",
       "      <th>protocol</th>\n",
       "      <th>txHash</th>\n",
       "      <th>logId</th>\n",
       "      <th>timestamp</th>\n",
       "      <th>blockNumber</th>\n",
       "      <th>action</th>\n",
       "      <th>actionData</th>\n",
       "      <th>__v</th>\n",
       "      <th>createdAt</th>\n",
       "      <th>updatedAt</th>\n",
       "    </tr>\n",
       "  </thead>\n",
       "  <tbody>\n",
       "    <tr>\n",
       "      <th>0</th>\n",
       "      <td>{'$oid': '681d38fed63812d4655f571a'}</td>\n",
       "      <td>0x00000000001accfa9cef68cf5371a23025b6d4b6</td>\n",
       "      <td>polygon</td>\n",
       "      <td>aave_v2</td>\n",
       "      <td>0x695c69acf608fbf5d38e48ca5535e118cc213a89e3d6...</td>\n",
       "      <td>0x695c69acf608fbf5d38e48ca5535e118cc213a89e3d6...</td>\n",
       "      <td>1629178166</td>\n",
       "      <td>1629178166</td>\n",
       "      <td>deposit</td>\n",
       "      <td>{'type': 'Deposit', 'amount': '2000000000', 'a...</td>\n",
       "      <td>0</td>\n",
       "      <td>{'$date': '2025-05-08T23:06:39.465Z'}</td>\n",
       "      <td>{'$date': '2025-05-08T23:06:39.465Z'}</td>\n",
       "    </tr>\n",
       "    <tr>\n",
       "      <th>1</th>\n",
       "      <td>{'$oid': '681aa70dd6df53021cc6f3c0'}</td>\n",
       "      <td>0x000000000051d07a4fb3bd10121a343d85818da6</td>\n",
       "      <td>polygon</td>\n",
       "      <td>aave_v2</td>\n",
       "      <td>0xe6fc162c86b2928b0ba9b82bda672763665152b9de9d...</td>\n",
       "      <td>0xe6fc162c86b2928b0ba9b82bda672763665152b9de9d...</td>\n",
       "      <td>1621525013</td>\n",
       "      <td>1621525013</td>\n",
       "      <td>deposit</td>\n",
       "      <td>{'type': 'Deposit', 'amount': '145000000000000...</td>\n",
       "      <td>0</td>\n",
       "      <td>{'$date': '2025-05-07T00:19:26.159Z'}</td>\n",
       "      <td>{'$date': '2025-05-07T00:19:26.159Z'}</td>\n",
       "    </tr>\n",
       "    <tr>\n",
       "      <th>2</th>\n",
       "      <td>{'$oid': '681d04c2d63812d4654c733e'}</td>\n",
       "      <td>0x000000000096026fb41fc39f9875d164bd82e2dc</td>\n",
       "      <td>polygon</td>\n",
       "      <td>aave_v2</td>\n",
       "      <td>0xe2d7eb815c89331a734ed6f204a06c385a1b39040baa...</td>\n",
       "      <td>0xe2d7eb815c89331a734ed6f204a06c385a1b39040baa...</td>\n",
       "      <td>1627118913</td>\n",
       "      <td>1627118913</td>\n",
       "      <td>deposit</td>\n",
       "      <td>{'type': 'Deposit', 'amount': '100000000000000...</td>\n",
       "      <td>0</td>\n",
       "      <td>{'$date': '2025-05-08T19:23:47.877Z'}</td>\n",
       "      <td>{'$date': '2025-05-08T19:23:47.877Z'}</td>\n",
       "    </tr>\n",
       "    <tr>\n",
       "      <th>3</th>\n",
       "      <td>{'$oid': '681d133bd63812d46551b6ef'}</td>\n",
       "      <td>0x000000000096026fb41fc39f9875d164bd82e2dc</td>\n",
       "      <td>polygon</td>\n",
       "      <td>aave_v2</td>\n",
       "      <td>0x0d63a2eacd82b82f868db825ea7385e6bd8d046ee729...</td>\n",
       "      <td>0x0d63a2eacd82b82f868db825ea7385e6bd8d046ee729...</td>\n",
       "      <td>1627773318</td>\n",
       "      <td>1627773318</td>\n",
       "      <td>deposit</td>\n",
       "      <td>{'type': 'Deposit', 'amount': '400000000000000...</td>\n",
       "      <td>0</td>\n",
       "      <td>{'$date': '2025-05-08T20:25:33.141Z'}</td>\n",
       "      <td>{'$date': '2025-05-08T20:25:33.141Z'}</td>\n",
       "    </tr>\n",
       "    <tr>\n",
       "      <th>4</th>\n",
       "      <td>{'$oid': '681899e4ba49fc91cf2f4454'}</td>\n",
       "      <td>0x0000000000e189dd664b9ab08a33c4839953852c</td>\n",
       "      <td>polygon</td>\n",
       "      <td>aave_v2</td>\n",
       "      <td>0x590eabb812c5006a6f4766f44e6e9d3ad0b5b563de69...</td>\n",
       "      <td>0x590eabb812c5006a6f4766f44e6e9d3ad0b5b563de69...</td>\n",
       "      <td>1618845907</td>\n",
       "      <td>1618845907</td>\n",
       "      <td>redeemunderlying</td>\n",
       "      <td>{'type': 'RedeemUnderlying', 'amount': '501548...</td>\n",
       "      <td>0</td>\n",
       "      <td>{'$date': '2025-05-05T10:58:45.934Z'}</td>\n",
       "      <td>{'$date': '2025-05-05T10:58:45.934Z'}</td>\n",
       "    </tr>\n",
       "  </tbody>\n",
       "</table>\n",
       "</div>"
      ],
      "text/plain": [
       "                                    _id  \\\n",
       "0  {'$oid': '681d38fed63812d4655f571a'}   \n",
       "1  {'$oid': '681aa70dd6df53021cc6f3c0'}   \n",
       "2  {'$oid': '681d04c2d63812d4654c733e'}   \n",
       "3  {'$oid': '681d133bd63812d46551b6ef'}   \n",
       "4  {'$oid': '681899e4ba49fc91cf2f4454'}   \n",
       "\n",
       "                                   userWallet  network protocol  \\\n",
       "0  0x00000000001accfa9cef68cf5371a23025b6d4b6  polygon  aave_v2   \n",
       "1  0x000000000051d07a4fb3bd10121a343d85818da6  polygon  aave_v2   \n",
       "2  0x000000000096026fb41fc39f9875d164bd82e2dc  polygon  aave_v2   \n",
       "3  0x000000000096026fb41fc39f9875d164bd82e2dc  polygon  aave_v2   \n",
       "4  0x0000000000e189dd664b9ab08a33c4839953852c  polygon  aave_v2   \n",
       "\n",
       "                                              txHash  \\\n",
       "0  0x695c69acf608fbf5d38e48ca5535e118cc213a89e3d6...   \n",
       "1  0xe6fc162c86b2928b0ba9b82bda672763665152b9de9d...   \n",
       "2  0xe2d7eb815c89331a734ed6f204a06c385a1b39040baa...   \n",
       "3  0x0d63a2eacd82b82f868db825ea7385e6bd8d046ee729...   \n",
       "4  0x590eabb812c5006a6f4766f44e6e9d3ad0b5b563de69...   \n",
       "\n",
       "                                               logId   timestamp  blockNumber  \\\n",
       "0  0x695c69acf608fbf5d38e48ca5535e118cc213a89e3d6...  1629178166   1629178166   \n",
       "1  0xe6fc162c86b2928b0ba9b82bda672763665152b9de9d...  1621525013   1621525013   \n",
       "2  0xe2d7eb815c89331a734ed6f204a06c385a1b39040baa...  1627118913   1627118913   \n",
       "3  0x0d63a2eacd82b82f868db825ea7385e6bd8d046ee729...  1627773318   1627773318   \n",
       "4  0x590eabb812c5006a6f4766f44e6e9d3ad0b5b563de69...  1618845907   1618845907   \n",
       "\n",
       "             action                                         actionData  __v  \\\n",
       "0           deposit  {'type': 'Deposit', 'amount': '2000000000', 'a...    0   \n",
       "1           deposit  {'type': 'Deposit', 'amount': '145000000000000...    0   \n",
       "2           deposit  {'type': 'Deposit', 'amount': '100000000000000...    0   \n",
       "3           deposit  {'type': 'Deposit', 'amount': '400000000000000...    0   \n",
       "4  redeemunderlying  {'type': 'RedeemUnderlying', 'amount': '501548...    0   \n",
       "\n",
       "                               createdAt  \\\n",
       "0  {'$date': '2025-05-08T23:06:39.465Z'}   \n",
       "1  {'$date': '2025-05-07T00:19:26.159Z'}   \n",
       "2  {'$date': '2025-05-08T19:23:47.877Z'}   \n",
       "3  {'$date': '2025-05-08T20:25:33.141Z'}   \n",
       "4  {'$date': '2025-05-05T10:58:45.934Z'}   \n",
       "\n",
       "                               updatedAt  \n",
       "0  {'$date': '2025-05-08T23:06:39.465Z'}  \n",
       "1  {'$date': '2025-05-07T00:19:26.159Z'}  \n",
       "2  {'$date': '2025-05-08T19:23:47.877Z'}  \n",
       "3  {'$date': '2025-05-08T20:25:33.141Z'}  \n",
       "4  {'$date': '2025-05-05T10:58:45.934Z'}  "
      ]
     },
     "execution_count": 6,
     "metadata": {},
     "output_type": "execute_result"
    }
   ],
   "source": [
    "df.head()"
   ]
  },
  {
   "cell_type": "code",
   "execution_count": 7,
   "id": "299e4afc-5b35-43c2-9c51-2bc1b40013e3",
   "metadata": {},
   "outputs": [],
   "source": [
    "# Drop unnecessary fields\n",
    "df = df[['userWallet', 'timestamp', 'action', 'actionData']]"
   ]
  },
  {
   "cell_type": "code",
   "execution_count": 8,
   "id": "3b0ac22e-ff30-4939-b0a3-98cd2db9afef",
   "metadata": {},
   "outputs": [],
   "source": [
    "# Convert timestamp\n",
    "df['timestamp'] = pd.to_datetime(df['timestamp'], unit='s')"
   ]
  },
  {
   "cell_type": "code",
   "execution_count": 9,
   "id": "3b7cee6d-af36-4f28-81ed-667b422858ad",
   "metadata": {},
   "outputs": [],
   "source": [
    "# Extract amount (convert to float from wei)\n",
    "df['amount'] = df['actionData'].apply(lambda x: float(x.get('amount', 0)) / 1e18)\n"
   ]
  },
  {
   "cell_type": "code",
   "execution_count": 10,
   "id": "430c7650-3531-43e9-94b9-8931194458db",
   "metadata": {},
   "outputs": [],
   "source": [
    "# Optional: extract asset\n",
    "df['asset'] = df['actionData'].apply(lambda x: x.get('asset', ''))"
   ]
  },
  {
   "cell_type": "code",
   "execution_count": 11,
   "id": "5b61b082-80ae-4bd6-b5e3-c3675f7e616f",
   "metadata": {},
   "outputs": [],
   "source": [
    "# Drop actionData\n",
    "df.drop(columns=['actionData'], inplace=True)"
   ]
  },
  {
   "cell_type": "code",
   "execution_count": 12,
   "id": "21e3dda5-d8c2-4fb6-9098-36c40b8f0316",
   "metadata": {},
   "outputs": [
    {
     "name": "stdout",
     "output_type": "stream",
     "text": [
      "                                   userWallet           timestamp  \\\n",
      "0  0x00000000001accfa9cef68cf5371a23025b6d4b6 2021-08-17 05:29:26   \n",
      "1  0x000000000051d07a4fb3bd10121a343d85818da6 2021-05-20 15:36:53   \n",
      "2  0x000000000096026fb41fc39f9875d164bd82e2dc 2021-07-24 09:28:33   \n",
      "3  0x000000000096026fb41fc39f9875d164bd82e2dc 2021-07-31 23:15:18   \n",
      "4  0x0000000000e189dd664b9ab08a33c4839953852c 2021-04-19 15:25:07   \n",
      "\n",
      "             action        amount asset  \n",
      "0           deposit  2.000000e-09        \n",
      "1           deposit  1.450000e+02        \n",
      "2           deposit  1.000000e-03        \n",
      "3           deposit  4.000000e-03        \n",
      "4  redeemunderlying  5.015480e-13        \n"
     ]
    }
   ],
   "source": [
    "print(df.head())"
   ]
  },
  {
   "cell_type": "code",
   "execution_count": 13,
   "id": "12676a72-3433-4bf2-aa5e-dc764d8d3ac8",
   "metadata": {},
   "outputs": [],
   "source": [
    "# Pivot features\n",
    "agg = df.groupby(['userWallet', 'action'])['amount'].sum().unstack(fill_value=0)\n"
   ]
  },
  {
   "cell_type": "code",
   "execution_count": 14,
   "id": "401685d7-495e-4e70-9706-eeb82031ca4c",
   "metadata": {},
   "outputs": [],
   "source": [
    "# Transaction count\n",
    "txn_count = df.groupby('userWallet').size().rename(\"num_transactions\")\n"
   ]
  },
  {
   "cell_type": "code",
   "execution_count": 15,
   "id": "b800f3c9-b437-4274-ba13-d505a9551037",
   "metadata": {},
   "outputs": [],
   "source": [
    "# Activity span\n",
    "wallet_activity = df.groupby('userWallet')['timestamp'].agg(['min', 'max'])\n",
    "wallet_activity['active_days'] = (wallet_activity['max'] - wallet_activity['min']).dt.days + 1"
   ]
  },
  {
   "cell_type": "code",
   "execution_count": 16,
   "id": "f4dd2002-9830-4e58-9295-cd9105ab3a8b",
   "metadata": {},
   "outputs": [],
   "source": [
    "# Merge all\n",
    "features = pd.concat([agg, txn_count, wallet_activity['active_days']], axis=1).fillna(0)\n"
   ]
  },
  {
   "cell_type": "code",
   "execution_count": 17,
   "id": "45ab6d0d-787f-41c9-9099-9b5fb70b39ce",
   "metadata": {},
   "outputs": [],
   "source": [
    "# Ratios\n",
    "features['repay_to_borrow_ratio'] = features.get('repay', 0) / (features.get('borrow', 1))\n",
    "features['deposit_to_withdraw_ratio'] = features.get('deposit', 0) / (features.get('redeemunderlying', 1))"
   ]
  },
  {
   "cell_type": "code",
   "execution_count": 21,
   "id": "32d5a34b-95cc-4d1d-8252-23e932dcd7be",
   "metadata": {},
   "outputs": [],
   "source": [
    "# Define features that correlate with creditworthiness\n",
    "scoring_features = features[['deposit', 'repay', 'num_transactions', 'active_days',\n",
    "                             'repay_to_borrow_ratio', 'deposit_to_withdraw_ratio']]"
   ]
  },
  {
   "cell_type": "code",
   "execution_count": 37,
   "id": "53b96d3b-a920-42f7-b3c1-bb0abfb74507",
   "metadata": {},
   "outputs": [],
   "source": [
    "# Normalize each feature\n",
    "scaler = MinMaxScaler()\n",
    "scaled_features = pd.DataFrame(scaler.fit_transform(scoring_features), \n",
    "                               columns=scoring_features.columns, \n",
    "                               index=features.index)"
   ]
  },
  {
   "cell_type": "code",
   "execution_count": 38,
   "id": "1c00a790-9776-4984-82de-3cf71cc63d75",
   "metadata": {},
   "outputs": [],
   "source": [
    "# Weighted sum (adjust weights as needed)\n",
    "features['credit_score'] = (\n",
    "    0.3 * scaled_features['deposit'] +\n",
    "    0.2 * scaled_features['repay'] +\n",
    "    0.15 * scaled_features['repay_to_borrow_ratio'] +\n",
    "    0.1 * scaled_features['num_transactions'] +\n",
    "    0.1 * scaled_features['active_days'] +\n",
    "    0.15 * scaled_features['deposit_to_withdraw_ratio']\n",
    ") * 1000"
   ]
  },
  {
   "cell_type": "code",
   "execution_count": 39,
   "id": "96b80d65-e3eb-43b1-befc-55eab2b35cb8",
   "metadata": {},
   "outputs": [],
   "source": [
    "features['credit_score'] = features['credit_score'].clip(0, 1000).round(2)"
   ]
  },
  {
   "cell_type": "code",
   "execution_count": 40,
   "id": "718aded8-a9c5-4cff-95ae-2634d9e9c518",
   "metadata": {},
   "outputs": [],
   "source": [
    "# Final Output\n",
    "wallet_scores = features[['credit_score']]\n",
    "wallet_scores.to_csv(\"wallet_credit_scores.csv\")"
   ]
  },
  {
   "cell_type": "code",
   "execution_count": null,
   "id": "00a5aa8a-ccd5-4fea-97fe-ae67abb6b36f",
   "metadata": {},
   "outputs": [],
   "source": []
  },
  {
   "cell_type": "code",
   "execution_count": null,
   "id": "24206428-87bf-4072-980e-f286163bec2d",
   "metadata": {},
   "outputs": [],
   "source": []
  },
  {
   "cell_type": "code",
   "execution_count": null,
   "id": "a38dbedd-55ae-4e26-afbb-9fe1a12f49be",
   "metadata": {},
   "outputs": [],
   "source": []
  },
  {
   "cell_type": "code",
   "execution_count": null,
   "id": "dd439318-93e6-45de-8b50-96cad763c537",
   "metadata": {},
   "outputs": [],
   "source": []
  }
 ],
 "metadata": {
  "kernelspec": {
   "display_name": "Python [conda env:base] *",
   "language": "python",
   "name": "conda-base-py"
  },
  "language_info": {
   "codemirror_mode": {
    "name": "ipython",
    "version": 3
   },
   "file_extension": ".py",
   "mimetype": "text/x-python",
   "name": "python",
   "nbconvert_exporter": "python",
   "pygments_lexer": "ipython3",
   "version": "3.13.5"
  }
 },
 "nbformat": 4,
 "nbformat_minor": 5
}
